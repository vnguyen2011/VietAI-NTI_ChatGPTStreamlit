{
  "nbformat": 4,
  "nbformat_minor": 0,
  "metadata": {
    "colab": {
      "provenance": [],
      "include_colab_link": true
    },
    "kernelspec": {
      "name": "python3",
      "display_name": "Python 3"
    },
    "language_info": {
      "name": "python"
    }
  },
  "cells": [
    {
      "cell_type": "markdown",
      "metadata": {
        "id": "view-in-github",
        "colab_type": "text"
      },
      "source": [
        "<a href=\"https://colab.research.google.com/github/vnguyen2011/VietAI-NTI_ChatGPTStreamlit/blob/main/%5BVietAI%5D_Finetune_llama2.ipynb\" target=\"_parent\"><img src=\"https://colab.research.google.com/assets/colab-badge.svg\" alt=\"Open In Colab\"/></a>"
      ]
    },
    {
      "cell_type": "markdown",
      "source": [
        "# Finetune Model"
      ],
      "metadata": {
        "id": "R9raBJLwAtcl"
      }
    },
    {
      "cell_type": "code",
      "execution_count": null,
      "metadata": {
        "id": "_GP2NRmrkIOP"
      },
      "outputs": [],
      "source": [
        "# Package installation and setup Autotrain\n",
        "!pip install -q autotrain-advanced\n",
        "!autotrain setup --update-torch\n",
        "!pip install --upgrade accelerate\n",
        "!pip install --upgrade dataset\n",
        "# This process would take about 5-10 mins"
      ]
    },
    {
      "cell_type": "code",
      "source": [
        "# Login to your HF account\n",
        "# You would get your HF token here: https://huggingface.co/settings/tokens\n",
        "HF_TOKEN = \"\"\n",
        "\n",
        "from huggingface_hub import login\n",
        "login(HF_TOKEN)"
      ],
      "metadata": {
        "id": "6VUa9sT3kS0R"
      },
      "execution_count": null,
      "outputs": []
    },
    {
      "cell_type": "code",
      "source": [
        "# Load for investigate the training data (Optional)\n",
        "from datasets import load_dataset\n",
        "dataset = load_dataset(\"HoangHa/hello\")\n",
        "dataset"
      ],
      "metadata": {
        "id": "rziD3e7WkkX8"
      },
      "execution_count": null,
      "outputs": []
    },
    {
      "cell_type": "code",
      "source": [
        "# Let's train\n",
        "# 20 mins for finetuning this model with VietAI QA dataset\n",
        "# By default, autotrain would find `text` column for training\n",
        "!autotrain llm \\\n",
        "--train \\\n",
        "--project_name llama2-VietAI \\\n",
        "--model meta-llama/Llama-2-7b-hf \\\n",
        "--data_path HoangHa/hello \\\n",
        "--text_column text \\\n",
        "--repo_id HoangHa/llama2-VietAI \\\n",
        "--token HF_TOKEN \\\n",
        "--trainer sft \\\n",
        "--learning_rate 2e-4 \\\n",
        "--num_train_epochs 3 \\\n",
        "--push_to_hub \\\n",
        "--gradient-accumulation 16 \\\n",
        "--use_peft \\\n",
        "--use_int4 \\\n",
        "--lora_r 16 \\\n",
        "--lora_alpha 32 \\\n",
        "--lora_dropout 0.05 \\\n",
        "--target_modules q_proj,v_proj \\\n",
        "--train_batch_size 8 \\\n",
        "--block_size 256\n",
        "# --merge_adapter # If you want to merge the trained adapter to your model\n",
        "# --use_flash_attention_2 # If you have a suitable GPU (e.g. A100)\n"
      ],
      "metadata": {
        "id": "P726cQzek9gp"
      },
      "execution_count": null,
      "outputs": []
    },
    {
      "cell_type": "markdown",
      "source": [
        "# Test model"
      ],
      "metadata": {
        "id": "OjYQE7ycAj-g"
      }
    },
    {
      "cell_type": "markdown",
      "source": [
        "**NOTE**: You need to restart the Notebook to run inference if there are any errors due to the memory"
      ],
      "metadata": {
        "id": "gY6ceNjxAlsL"
      }
    },
    {
      "cell_type": "code",
      "source": [
        "!pip install --upgrade transformers datasets accelerate peft bitsandbytes"
      ],
      "metadata": {
        "id": "uBXshhmhAlFi"
      },
      "execution_count": null,
      "outputs": []
    },
    {
      "cell_type": "code",
      "source": [
        "import transformers\n",
        "import torch\n",
        "from transformers import AutoModelForCausalLM, AutoTokenizer, pipeline\n",
        "\n",
        "# Config model\n",
        "bnb_config = transformers.BitsAndBytesConfig(\n",
        "    load_in_4bit=True,\n",
        "    bnb_4bit_use_double_quant=True,\n",
        "    bnb_4bit_quant_type=\"nf4\",\n",
        "    bnb_4bit_compute_dtype=torch.bfloat16\n",
        ")\n",
        "\n",
        "# Finetuned model\n",
        "model_finetuned = AutoModelForCausalLM.from_pretrained(\n",
        "    \"HoangHa/llama2-VietAI-merged\",\n",
        "    device_map=\"auto\",\n",
        "    load_in_4bit=True,\n",
        "    quantization_config=bnb_config,\n",
        "    token = HF_TOKEN\n",
        ")\n",
        "\n",
        "# Tokenizer\n",
        "tokenizer = AutoTokenizer.from_pretrained(\"meta-llama/Llama-2-7b-hf\",\n",
        "                                          padding_side=\"left\",\n",
        "                                          token = HF_TOKEN)\n",
        "tokenizer.pad_token = tokenizer.eos_token  # Most LLMs don't have a pad token by default\n",
        "\n",
        "# Generation pipeline finetuned\n",
        "generate_finetuned = pipeline(\n",
        "    model = model_finetuned,\n",
        "    tokenizer = tokenizer,\n",
        "    return_full_text = True,\n",
        "    task = 'text-generation',\n",
        "    temperature = 0.1,\n",
        "    max_new_tokens = 64,\n",
        "    repetition_penalty = 1.1\n",
        ")\n",
        "\n",
        "# ------------------------------------------\n",
        "# Base model\n",
        "model_base = AutoModelForCausalLM.from_pretrained(\n",
        "    \"meta-llama/Llama-2-7b-hf\",\n",
        "    device_map=\"auto\",\n",
        "    load_in_4bit=True,\n",
        "    quantization_config=bnb_config,\n",
        "    token = HF_TOKEN\n",
        ")\n",
        "\n",
        "# Generation pipeline base\n",
        "generate_base = pipeline(\n",
        "    model = model_base,\n",
        "    tokenizer = tokenizer,\n",
        "    return_full_text = True,\n",
        "    task = 'text-generation',\n",
        "    temperature = 0.1,\n",
        "    max_new_tokens = 128,\n",
        "    repetition_penalty = 1.1\n",
        ")\n",
        "\n",
        "# Output\n",
        "print(\"Finetuned Model:\")\n",
        "input_text = \"\"\"\n",
        "VietAI dạy những môn cơ bản nào?\n",
        "\"\"\"\n",
        "res = generate_finetuned(input_text)\n",
        "print(res[0]['generated_text'])\n",
        "\n",
        "print(\"Base model:\")\n",
        "input_text = \"\"\"\n",
        "VietAI dạy những môn cơ bản nào?\n",
        "\"\"\"\n",
        "res = generate_base(input_text)\n",
        "print(res[0]['generated_text'])"
      ],
      "metadata": {
        "id": "JvZlKcMtmBrA"
      },
      "execution_count": null,
      "outputs": []
    },
    {
      "cell_type": "code",
      "source": [],
      "metadata": {
        "id": "s84XA1OpmshM"
      },
      "execution_count": null,
      "outputs": []
    }
  ]
}